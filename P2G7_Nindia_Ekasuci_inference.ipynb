{
 "cells": [
  {
   "cell_type": "code",
   "execution_count": 2,
   "id": "4fbc8258",
   "metadata": {},
   "outputs": [
    {
     "name": "stderr",
     "output_type": "stream",
     "text": [
      "W0000 00:00:1756199221.558501   25997 gpu_device.cc:2341] Cannot dlopen some GPU libraries. Please make sure the missing libraries mentioned above are installed properly if you would like to use GPU. Follow the guide at https://www.tensorflow.org/install/gpu for how to download and setup the required libraries for your platform.\n",
      "Skipping registering GPU devices...\n"
     ]
    }
   ],
   "source": [
    "# =========================\n",
    "# STEP 0: Import Library\n",
    "# =========================\n",
    "import tensorflow as tf\n",
    "import json\n",
    "from keras.layers import TFSMLayer\n",
    "\n",
    "# =========================\n",
    "# STEP 1: Load Model & Vectorizer\n",
    "# =========================\n",
    "vectorizer = TFSMLayer(\"models/vectorizer_savedmodel\", call_endpoint=\"serving_default\")\n",
    "model = TFSMLayer(\"models/bilstm_attention_savedmodel\", call_endpoint=\"serving_default\")"
   ]
  },
  {
   "cell_type": "code",
   "execution_count": 3,
   "id": "6a9f25bc",
   "metadata": {},
   "outputs": [],
   "source": [
    "# =========================\n",
    "# STEP 2: Load Label Mapping\n",
    "# =========================\n",
    "with open(\"models/label_map.json\") as f:\n",
    "    inv_label_map = json.load(f)"
   ]
  },
  {
   "cell_type": "code",
   "execution_count": 15,
   "id": "ccaf6dde",
   "metadata": {},
   "outputs": [],
   "source": [
    "# =========================\n",
    "# STEP 3: Input Teks\n",
    "# =========================\n",
    "texts = [\"We are a startup offering tech solutions.\"]\n",
    "\n",
    "# Pastikan bentuk tensor sesuai (batch_size, 1)\n",
    "text_tensor = tf.constant(texts)\n",
    "text_tensor = tf.reshape(text_tensor, (-1, 1))  # (1, 1)"
   ]
  },
  {
   "cell_type": "code",
   "execution_count": 16,
   "id": "020dd916",
   "metadata": {},
   "outputs": [],
   "source": [
    "# =========================\n",
    "# STEP 4: Vectorizer → Model\n",
    "# =========================\n",
    "\n",
    "embedding_layer = tf.keras.layers.Embedding(input_dim=21691, output_dim=128, mask_zero=True) # input_dim = jumlah token unik vectorizer, output_dim = ukuran embedding yg di set saat training\n",
    "\n",
    "X = vectorizer(text_tensor)[\"text_vectorization\"]\n",
    "X_embed = embedding_layer(X)\n",
    "\n",
    "y_probs = model(X_embed)[\"output_0\"]\n",
    "y_pred = tf.argmax(y_probs, axis=1).numpy()"
   ]
  },
  {
   "cell_type": "code",
   "execution_count": null,
   "id": "79aa45c9",
   "metadata": {},
   "outputs": [
    {
     "name": "stdout",
     "output_type": "stream",
     "text": [
      "Predicted: ['large']\n"
     ]
    }
   ],
   "source": [
    "# === Mapping ke label \n",
    "inv_label_map = {'0': 'small', '1': 'medium', '2': 'large'}\n",
    "predicted_labels = [inv_label_map[str(i)] for i in y_pred]\n",
    "print(\"Predicted:\", predicted_labels)"
   ]
  }
 ],
 "metadata": {
  "kernelspec": {
   "display_name": "nlp_env",
   "language": "python",
   "name": "python3"
  },
  "language_info": {
   "codemirror_mode": {
    "name": "ipython",
    "version": 3
   },
   "file_extension": ".py",
   "mimetype": "text/x-python",
   "name": "python",
   "nbconvert_exporter": "python",
   "pygments_lexer": "ipython3",
   "version": "3.10.18"
  }
 },
 "nbformat": 4,
 "nbformat_minor": 5
}
